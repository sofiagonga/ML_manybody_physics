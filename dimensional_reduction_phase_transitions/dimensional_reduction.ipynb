{
 "cells": [
  {
   "cell_type": "markdown",
   "id": "3dec70a2",
   "metadata": {},
   "source": [
    "# Studying phase transitions using dimensional reduction"
   ]
  },
  {
   "cell_type": "markdown",
   "id": "507c2621",
   "metadata": {},
   "source": [
    "This code relies on work from Lauren Hayward, Juan Carrasquilla, and Mohamed Hibat Allah."
   ]
  },
  {
   "cell_type": "code",
   "execution_count": null,
   "id": "166b199c",
   "metadata": {},
   "outputs": [],
   "source": []
  }
 ],
 "metadata": {
  "kernelspec": {
   "display_name": "Python 3 (ipykernel)",
   "language": "python",
   "name": "python3"
  },
  "language_info": {
   "codemirror_mode": {
    "name": "ipython",
    "version": 3
   },
   "file_extension": ".py",
   "mimetype": "text/x-python",
   "name": "python",
   "nbconvert_exporter": "python",
   "pygments_lexer": "ipython3",
   "version": "3.9.7"
  }
 },
 "nbformat": 4,
 "nbformat_minor": 5
}
