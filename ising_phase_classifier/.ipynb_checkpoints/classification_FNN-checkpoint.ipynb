{
 "cells": [
  {
   "cell_type": "markdown",
   "metadata": {
    "id": "eWxxmBLYKoln"
   },
   "source": [
    "# Classifying Ising model phase transitions using FNNs in PyTorch\n",
    "\n",
    "April 25, 2022\n",
    "\n",
    "This code relies on work from Lauren Hayward, Juan Carrasquilla, and Mohamed Hibat Allah. <br/>\n",
    "Dataset generated using Monte Carlo sampling also by the Lauren, Juan and Mohamed."
   ]
  },
  {
   "cell_type": "markdown",
   "metadata": {},
   "source": [
    "### Import libraries"
   ]
  },
  {
   "cell_type": "code",
   "execution_count": 1,
   "metadata": {},
   "outputs": [],
   "source": [
    "import numpy as np\n",
    "import os\n",
    "import matplotlib.pyplot as plt\n",
    "import torch\n",
    "from IPython import display\n",
    "import time\n",
    "import copy\n",
    "from sklearn.model_selection import train_test_split"
   ]
  },
  {
   "cell_type": "markdown",
   "metadata": {},
   "source": [
    "### Import data"
   ]
  },
  {
   "cell_type": "code",
   "execution_count": 2,
   "metadata": {},
   "outputs": [],
   "source": [
    "github_dir = 'https://raw.githubusercontent.com/sofiagonga/ML_manybody_physics/main/ising_phase_classifier/data'\n",
    "\n",
    "x_url = os.path.join(github_dir, 'x_L30.txt')\n",
    "y_url = os.path.join(github_dir, 'y_L30.txt')\n",
    "T_url = os.path.join(github_dir, 'T_L30.txt')\n",
    "\n",
    "x_all = np.loadtxt(x_url , dtype='int16')\n",
    "y_all = np.loadtxt(y_url , dtype='int16')\n",
    "T_all = np.loadtxt(T_url , dtype='int16')"
   ]
  },
  {
   "cell_type": "code",
   "execution_count": 3,
   "metadata": {},
   "outputs": [
    {
     "name": "stdout",
     "output_type": "stream",
     "text": [
      "Number of configurations in data set:  10000\n",
      "Lattice size:  30 x 30\n"
     ]
    }
   ],
   "source": [
    "N_configs = np.shape(x_all)[0]\n",
    "print(\"Number of configurations in data set: \", N_configs)\n",
    "\n",
    "L = int(np.sqrt(np.shape(x_all)[1]))\n",
    "print(\"Lattice size: \", L, 'x', L)"
   ]
  },
  {
   "cell_type": "markdown",
   "metadata": {},
   "source": [
    "#### Select GPU to run code if available (speeds-up calculation)"
   ]
  },
  {
   "cell_type": "code",
   "execution_count": 4,
   "metadata": {},
   "outputs": [
    {
     "name": "stdout",
     "output_type": "stream",
     "text": [
      "Device available: cpu\n"
     ]
    }
   ],
   "source": [
    "device = 'cuda' if torch.cuda.is_available() else 'cpu'\n",
    "print(\"Device available:\", device) #M1 chip does not support GPU as of today"
   ]
  },
  {
   "cell_type": "markdown",
   "metadata": {
    "id": "MuUm4oZtGM77"
   },
   "source": [
    "### Plot a random configuration\n"
   ]
  },
  {
   "cell_type": "code",
   "execution_count": 5,
   "metadata": {},
   "outputs": [
    {
     "data": {
      "image/png": "[encoded data removed]",
      "text/plain": [
       "<Figure size 432x288 with 1 Axes>"
      ]
     },
     "metadata": {
      "needs_background": "light"
     },
     "output_type": "display_data"
    }
   ],
   "source": [
    "rnd_config_index = np.random.randint(0, N_configs)\n",
    "reshaped_configuration = x_all[rnd_config_index].reshape(L,L)\n",
    "\n",
    "title = 'Plot for configuration number ' + str(rnd_config_index)\n",
    "plt.title(title)\n",
    "plt.imshow(reshaped_configuration, cmap=plt.cm.gray) #black = 0, white = 1\n",
    "plt.show()"
   ]
  },
  {
   "cell_type": "markdown",
   "metadata": {
    "id": "cnVlZ9Gf96KC"
   },
   "source": [
    "## Define the network architecture"
   ]
  },
  {
   "cell_type": "code",
   "execution_count": 6,
   "metadata": {
    "id": "EG5DlljlSEvB"
   },
   "outputs": [],
   "source": [
    "%matplotlib inline\n",
    "\n",
    "class FeedforwardNN(torch.nn.Module):\n",
    "    def __init__(self, input_size, output_size, nl_h1):\n",
    "        super(FeedforwardNN, self).__init__()\n",
    "\n",
    "        #layer sizes:\n",
    "        self.input_size = input_size\n",
    "        self.output_size = output_size\n",
    "\n",
    "        #activation functions used within the Feedforward NN:\n",
    "        self.linear1 = torch.nn.Linear(self.input_size, nl_h1)\n",
    "        self.linear2 = torch.nn.Linear(nl_h1, self.output_size)\n",
    "        \n",
    "        self.relu    = torch.nn.ReLU() \n",
    "        self.sigmoid = torch.nn.Sigmoid()\n",
    "        self.softmax = torch.nn.Softmax()\n",
    "        \n",
    "    def forward(self, x):\n",
    "        #Layer 1:\n",
    "        linear1_out = self.linear1(x)\n",
    "        a1 = self.sigmoid(linear1_out)\n",
    "        #Layer 2:\n",
    "        linear2_out = self.linear2(a1)\n",
    "        a2 = self.sigmoid(linear2_out)\n",
    "\n",
    "        #Network output:\n",
    "        aL = a2\n",
    "\n",
    "        return aL"
   ]
  },
  {
   "cell_type": "markdown",
   "metadata": {},
   "source": [
    "### Define model creation function\n",
    "(Avoids training model on pre-existing model)"
   ]
  },
  {
   "cell_type": "code",
   "execution_count": 7,
   "metadata": {},
   "outputs": [],
   "source": [
    "def define_model(nl_h1):\n",
    "    input_size = L*L\n",
    "    output_size = 2\n",
    "    #nl_h1 = number of neurons in hidden layer 1\n",
    "\n",
    "    model = FeedforwardNN(input_size, output_size, nl_h1).to(device)\n",
    "    \n",
    "    return model"
   ]
  },
  {
   "cell_type": "markdown",
   "metadata": {},
   "source": [
    "### Define the cost function"
   ]
  },
  {
   "cell_type": "code",
   "execution_count": 8,
   "metadata": {},
   "outputs": [],
   "source": [
    "cost_func = torch.nn.MSELoss()\n",
    "#Other: cost_func = torch.nn.CrossEntropy()"
   ]
  },
  {
   "cell_type": "markdown",
   "metadata": {},
   "source": [
    "### Define model training function"
   ]
  },
  {
   "cell_type": "code",
   "execution_count": 9,
   "metadata": {},
   "outputs": [],
   "source": [
    "def train_model(N_epochs, x_train, x_val, y_train, y_val, y_onehot_train, y_onehot_val, lr, nl_h1 = 100, wd = 0):\n",
    "    epoch_list    = []\n",
    "    cost_training = []\n",
    "    acc_training  = []\n",
    "    cost_validation = []\n",
    "    acc_validation  = []\n",
    "    \n",
    "    model = define_model(nl_h1)\n",
    "    optimizer = torch.optim.SGD(model.parameters(), lr, wd)\n",
    "    \n",
    "    ### Train for several epochs: ###\n",
    "    for epoch in range(N_epochs):\n",
    "\n",
    "        optimizer.zero_grad() # sets the gradients to zero (necessary since PyTorch accumulates the gradients)\n",
    "        NN_output_train = model(x_train) # Neural network output for training\n",
    "        NN_output_val = model(x_val) # Neural network output for validation\n",
    "        cost_train = cost_func(NN_output_train, y_onehot_train)\n",
    "        cost_valid = cost_func(NN_output_val, y_onehot_val)\n",
    "\n",
    "        cost_train.backward() #computes the gradients\n",
    "        cost_valid.backward() #computes the gradients\n",
    "\n",
    "        optimizer.step() #updating the parameters \n",
    "\n",
    "        if epoch % 50 == 0:\n",
    "            epoch_list.append(epoch)\n",
    "\n",
    "            #Training data\n",
    "            predicted_class_train = np.argmax(NN_output_train.detach().numpy(), axis=1)\n",
    "            accuracy_train = np.mean(predicted_class_train == y_train)\n",
    "\n",
    "            cost_training.append(cost_train.detach().numpy())\n",
    "            acc_training.append(accuracy_train)\n",
    "\n",
    "            #Validation data\n",
    "            predicted_class_valid = np.argmax(NN_output_val.detach().numpy(), axis=1)\n",
    "            accuracy_valid = np.mean(predicted_class_valid == y_val)\n",
    "\n",
    "            cost_validation.append(cost_valid.detach().numpy())\n",
    "            acc_validation.append(accuracy_valid)\n",
    "            \n",
    "    return epoch_list, cost_training, cost_validation, acc_training, acc_validation"
   ]
  },
  {
   "cell_type": "markdown",
   "metadata": {},
   "source": [
    "### Split data into training, validation and testing"
   ]
  },
  {
   "cell_type": "code",
   "execution_count": 10,
   "metadata": {},
   "outputs": [],
   "source": [
    "split_ratio = [0.7, 0.2, 0.1] #train, validate, test\n",
    "\n",
    "first_split = split_ratio[1] + split_ratio[2]\n",
    "x_train, x_val, y_train, y_val = train_test_split(x_all, y_all, test_size = first_split, random_state=1)\n",
    "\n",
    "second_split = split_ratio[2]/(split_ratio[1] + split_ratio[2])\n",
    "x_val, x_test, y_val, y_test = train_test_split(x_val, y_val, test_size = second_split, random_state=1)"
   ]
  },
  {
   "cell_type": "code",
   "execution_count": 11,
   "metadata": {},
   "outputs": [],
   "source": [
    "### Store the input data as a PyTorch tensor ###\n",
    "x_train = torch.tensor(x_train, dtype = torch.float).to(device)\n",
    "x_val = torch.tensor(x_val, dtype = torch.float).to(device)\n",
    "\n",
    "### One hot encoding for training data set###\n",
    "y_onehot_train = np.zeros((y_train.size, 2))\n",
    "y_onehot_train[np.arange(y_train.size), y_train] = 1\n",
    "y_onehot_train = torch.tensor(y_onehot_train, dtype = torch.float).to(device)\n",
    "\n",
    "### One hot encoding for validation data set###\n",
    "y_onehot_val = np.zeros((y_val.size, 2))\n",
    "y_onehot_val[np.arange(y_val.size), y_val] = 1\n",
    "y_onehot_val = torch.tensor(y_onehot_val, dtype = torch.float).to(device)"
   ]
  },
  {
   "cell_type": "markdown",
   "metadata": {},
   "source": [
    "### Function for plotting"
   ]
  },
  {
   "cell_type": "code",
   "execution_count": 12,
   "metadata": {},
   "outputs": [],
   "source": [
    "def plot_fnn_params(epoch_list, parameter_values_train, parameter_values_valid, parameter_name):\n",
    "    title = str(parameter_name) + ' evolution with epoch'\n",
    "    plt.title(title)\n",
    "    plt.plot(epoch_list, parameter_values_train, label = 'Training data', ls = 'dashed')\n",
    "    plt.plot(epoch_list, parameter_values_valid, label = 'Validation data', ls = 'dashed')\n",
    "    plt.xlabel('Epoch')\n",
    "    plt.ylabel(parameter_name)\n",
    "    plt.legend()\n",
    "    plt.show()"
   ]
  },
  {
   "cell_type": "markdown",
   "metadata": {
    "id": "KOtexsTq-EfC"
   },
   "source": [
    "##  <span style=\"color:#8B008B\"> Training (2.a) </span>"
   ]
  },
  {
   "cell_type": "markdown",
   "metadata": {},
   "source": [
    "#### Define hyperparameters"
   ]
  },
  {
   "cell_type": "code",
   "execution_count": 13,
   "metadata": {},
   "outputs": [],
   "source": [
    "learning_rate = 1\n",
    "N_epochs = 1000 # number of times to run gradient descent"
   ]
  },
  {
   "cell_type": "markdown",
   "metadata": {},
   "source": [
    "#### Train model"
   ]
  },
  {
   "cell_type": "code",
   "execution_count": 14,
   "metadata": {
    "id": "7ng0FlPl-YNf"
   },
   "outputs": [],
   "source": [
    "epoch_list, cost_training, cost_validation, acc_training, acc_validation = train_model(N_epochs, x_train, x_val, y_train, y_val, y_onehot_train, y_onehot_val, learning_rate)"
   ]
  },
  {
   "cell_type": "code",
   "execution_count": 15,
   "metadata": {},
   "outputs": [],
   "source": [
    "#### Plot results"
   ]
  },
  {
   "cell_type": "code",
   "execution_count": 16,
   "metadata": {},
   "outputs": [
    {
     "data": {
      "image/png": "[encoded data removed]",
      "text/plain": [
       "<Figure size 432x288 with 1 Axes>"
      ]
     },
     "metadata": {
      "needs_background": "light"
     },
     "output_type": "display_data"
    },
    {
     "data": {
      "image/png": "[encoded data removed]",
      "text/plain": [
       "<Figure size 432x288 with 1 Axes>"
      ]
     },
     "metadata": {
      "needs_background": "light"
     },
     "output_type": "display_data"
    },
    {
     "name": "stdout",
     "output_type": "stream",
     "text": [
      "Final Training cost 0.135114\n",
      "Final Training accuracy 0.766109\n",
      "\n",
      "Final Validation cost 0.121307\n",
      "Final Validation accuracy 0.806500\n",
      "\n"
     ]
    }
   ],
   "source": [
    "plot_fnn_params(epoch_list, cost_training, cost_validation, 'Cost')\n",
    "plot_fnn_params(epoch_list, acc_training, acc_validation, 'Accuracy')\n",
    "\n",
    "print(\"Final Training cost %f\\nFinal Training accuracy %f\\n\" % (cost_training[-1], acc_training[-1]) )\n",
    "print(\"Final Validation cost %f\\nFinal Validation accuracy %f\\n\" % (cost_validation[-1], acc_validation[-1]) )"
   ]
  },
  {
   "cell_type": "markdown",
   "metadata": {},
   "source": [
    "##  <span style=\"color:#8B008B\"> Training (2.b) </span>"
   ]
  },
  {
   "cell_type": "markdown",
   "metadata": {},
   "source": [
    "### Compare different values of weight decay"
   ]
  },
  {
   "cell_type": "code",
   "execution_count": 17,
   "metadata": {},
   "outputs": [],
   "source": [
    "learning_rate = 1\n",
    "N_epochs = 3000 # number of times to run gradient descent"
   ]
  },
  {
   "cell_type": "code",
   "execution_count": 18,
   "metadata": {},
   "outputs": [
    {
     "ename": "KeyboardInterrupt",
     "evalue": "",
     "output_type": "error",
     "traceback": [
      "\u001b[0;31m---------------------------------------------------------------------------\u001b[0m",
      "\u001b[0;31mKeyboardInterrupt\u001b[0m                         Traceback (most recent call last)",
      "Input \u001b[0;32mIn [18]\u001b[0m, in \u001b[0;36m<module>\u001b[0;34m\u001b[0m\n\u001b[1;32m      1\u001b[0m weight_decays \u001b[38;5;241m=\u001b[39m [\u001b[38;5;241m1e-2\u001b[39m, \u001b[38;5;241m1e-5\u001b[39m, \u001b[38;5;241m1e-10\u001b[39m, \u001b[38;5;241m1e-15\u001b[39m]\n\u001b[1;32m      3\u001b[0m \u001b[38;5;28;01mfor\u001b[39;00m weight_decay \u001b[38;5;129;01min\u001b[39;00m weight_decays:\n\u001b[0;32m----> 4\u001b[0m     epoch_list, cost_training, cost_validation, acc_training, acc_validation \u001b[38;5;241m=\u001b[39m \u001b[43mtrain_model\u001b[49m\u001b[43m(\u001b[49m\u001b[43mN_epochs\u001b[49m\u001b[43m,\u001b[49m\u001b[43m \u001b[49m\u001b[43mx_train\u001b[49m\u001b[43m,\u001b[49m\u001b[43m \u001b[49m\u001b[43mx_val\u001b[49m\u001b[43m,\u001b[49m\u001b[43m \u001b[49m\u001b[43my_train\u001b[49m\u001b[43m,\u001b[49m\u001b[43m \u001b[49m\u001b[43my_val\u001b[49m\u001b[43m,\u001b[49m\u001b[43m \u001b[49m\u001b[43my_onehot_train\u001b[49m\u001b[43m,\u001b[49m\u001b[43m \u001b[49m\u001b[43my_onehot_val\u001b[49m\u001b[43m,\u001b[49m\u001b[43m \u001b[49m\u001b[43mlr\u001b[49m\u001b[43m \u001b[49m\u001b[38;5;241;43m=\u001b[39;49m\u001b[43m \u001b[49m\u001b[43mlearning_rate\u001b[49m\u001b[43m,\u001b[49m\u001b[43m \u001b[49m\u001b[43mwd\u001b[49m\u001b[43m \u001b[49m\u001b[38;5;241;43m=\u001b[39;49m\u001b[43m \u001b[49m\u001b[43mweight_decay\u001b[49m\u001b[43m)\u001b[49m\n\u001b[1;32m      6\u001b[0m     \u001b[38;5;28mprint\u001b[39m(\u001b[38;5;124m\"\u001b[39m\u001b[38;5;124mResults for weight decay: \u001b[39m\u001b[38;5;124m\"\u001b[39m, weight_decay)\n\u001b[1;32m      7\u001b[0m     plot_fnn_params(epoch_list, cost_training, cost_validation, \u001b[38;5;124m'\u001b[39m\u001b[38;5;124mCost\u001b[39m\u001b[38;5;124m'\u001b[39m)\n",
      "Input \u001b[0;32mIn [9]\u001b[0m, in \u001b[0;36mtrain_model\u001b[0;34m(N_epochs, x_train, x_val, y_train, y_val, y_onehot_train, y_onehot_val, lr, nl_h1, wd)\u001b[0m\n\u001b[1;32m     17\u001b[0m cost_train \u001b[38;5;241m=\u001b[39m cost_func(NN_output_train, y_onehot_train)\n\u001b[1;32m     18\u001b[0m cost_valid \u001b[38;5;241m=\u001b[39m cost_func(NN_output_val, y_onehot_val)\n\u001b[0;32m---> 20\u001b[0m \u001b[43mcost_train\u001b[49m\u001b[38;5;241;43m.\u001b[39;49m\u001b[43mbackward\u001b[49m\u001b[43m(\u001b[49m\u001b[43m)\u001b[49m \u001b[38;5;66;03m#computes the gradients\u001b[39;00m\n\u001b[1;32m     21\u001b[0m cost_valid\u001b[38;5;241m.\u001b[39mbackward() \u001b[38;5;66;03m#computes the gradients\u001b[39;00m\n\u001b[1;32m     23\u001b[0m optimizer\u001b[38;5;241m.\u001b[39mstep() \u001b[38;5;66;03m#updating the parameters \u001b[39;00m\n",
      "File \u001b[0;32m~/opt/anaconda3/lib/python3.9/site-packages/torch/_tensor.py:363\u001b[0m, in \u001b[0;36mTensor.backward\u001b[0;34m(self, gradient, retain_graph, create_graph, inputs)\u001b[0m\n\u001b[1;32m    354\u001b[0m \u001b[38;5;28;01mif\u001b[39;00m has_torch_function_unary(\u001b[38;5;28mself\u001b[39m):\n\u001b[1;32m    355\u001b[0m     \u001b[38;5;28;01mreturn\u001b[39;00m handle_torch_function(\n\u001b[1;32m    356\u001b[0m         Tensor\u001b[38;5;241m.\u001b[39mbackward,\n\u001b[1;32m    357\u001b[0m         (\u001b[38;5;28mself\u001b[39m,),\n\u001b[0;32m   (...)\u001b[0m\n\u001b[1;32m    361\u001b[0m         create_graph\u001b[38;5;241m=\u001b[39mcreate_graph,\n\u001b[1;32m    362\u001b[0m         inputs\u001b[38;5;241m=\u001b[39minputs)\n\u001b[0;32m--> 363\u001b[0m \u001b[43mtorch\u001b[49m\u001b[38;5;241;43m.\u001b[39;49m\u001b[43mautograd\u001b[49m\u001b[38;5;241;43m.\u001b[39;49m\u001b[43mbackward\u001b[49m\u001b[43m(\u001b[49m\u001b[38;5;28;43mself\u001b[39;49m\u001b[43m,\u001b[49m\u001b[43m \u001b[49m\u001b[43mgradient\u001b[49m\u001b[43m,\u001b[49m\u001b[43m \u001b[49m\u001b[43mretain_graph\u001b[49m\u001b[43m,\u001b[49m\u001b[43m \u001b[49m\u001b[43mcreate_graph\u001b[49m\u001b[43m,\u001b[49m\u001b[43m \u001b[49m\u001b[43minputs\u001b[49m\u001b[38;5;241;43m=\u001b[39;49m\u001b[43minputs\u001b[49m\u001b[43m)\u001b[49m\n",
      "File \u001b[0;32m~/opt/anaconda3/lib/python3.9/site-packages/torch/autograd/__init__.py:173\u001b[0m, in \u001b[0;36mbackward\u001b[0;34m(tensors, grad_tensors, retain_graph, create_graph, grad_variables, inputs)\u001b[0m\n\u001b[1;32m    168\u001b[0m     retain_graph \u001b[38;5;241m=\u001b[39m create_graph\n\u001b[1;32m    170\u001b[0m \u001b[38;5;66;03m# The reason we repeat same the comment below is that\u001b[39;00m\n\u001b[1;32m    171\u001b[0m \u001b[38;5;66;03m# some Python versions print out the first line of a multi-line function\u001b[39;00m\n\u001b[1;32m    172\u001b[0m \u001b[38;5;66;03m# calls in the traceback and some print out the last line\u001b[39;00m\n\u001b[0;32m--> 173\u001b[0m \u001b[43mVariable\u001b[49m\u001b[38;5;241;43m.\u001b[39;49m\u001b[43m_execution_engine\u001b[49m\u001b[38;5;241;43m.\u001b[39;49m\u001b[43mrun_backward\u001b[49m\u001b[43m(\u001b[49m\u001b[43m  \u001b[49m\u001b[38;5;66;43;03m# Calls into the C++ engine to run the backward pass\u001b[39;49;00m\n\u001b[1;32m    174\u001b[0m \u001b[43m    \u001b[49m\u001b[43mtensors\u001b[49m\u001b[43m,\u001b[49m\u001b[43m \u001b[49m\u001b[43mgrad_tensors_\u001b[49m\u001b[43m,\u001b[49m\u001b[43m \u001b[49m\u001b[43mretain_graph\u001b[49m\u001b[43m,\u001b[49m\u001b[43m \u001b[49m\u001b[43mcreate_graph\u001b[49m\u001b[43m,\u001b[49m\u001b[43m \u001b[49m\u001b[43minputs\u001b[49m\u001b[43m,\u001b[49m\n\u001b[1;32m    175\u001b[0m \u001b[43m    \u001b[49m\u001b[43mallow_unreachable\u001b[49m\u001b[38;5;241;43m=\u001b[39;49m\u001b[38;5;28;43;01mTrue\u001b[39;49;00m\u001b[43m,\u001b[49m\u001b[43m \u001b[49m\u001b[43maccumulate_grad\u001b[49m\u001b[38;5;241;43m=\u001b[39;49m\u001b[38;5;28;43;01mTrue\u001b[39;49;00m\u001b[43m)\u001b[49m\n",
      "\u001b[0;31mKeyboardInterrupt\u001b[0m: "
     ]
    }
   ],
   "source": [
    "weight_decays = [1e-2, 1e-5, 1e-10, 1e-15]\n",
    "\n",
    "for weight_decay in weight_decays:\n",
    "    epoch_list, cost_training, cost_validation, acc_training, acc_validation = train_model(N_epochs, x_train, x_val, y_train, y_val, y_onehot_train, y_onehot_val, lr = learning_rate, wd = weight_decay)\n",
    "    \n",
    "    print(\"Results for weight decay: \", weight_decay)\n",
    "    plot_fnn_params(epoch_list, cost_training, cost_validation, 'Cost')\n",
    "    plot_fnn_params(epoch_list, acc_training, acc_validation, 'Accuracy')\n",
    "    print(\"Final Training cost %f\\nFinal Training accuracy %f\\n\" % (cost_training[-1], acc_training[-1]) )\n",
    "    print(\"Final Validation cost %f\\nFinal Validation accuracy %f\\n\" % (cost_validation[-1], acc_validation[-1]) )\n",
    "    print(\"\")"
   ]
  },
  {
   "cell_type": "markdown",
   "metadata": {},
   "source": [
    "##  <span style=\"color:#8B008B\"> Tuning hyper parameters (2.c) </span>"
   ]
  },
  {
   "cell_type": "markdown",
   "metadata": {},
   "source": [
    "### Number of neurons in hidden layer"
   ]
  },
  {
   "cell_type": "code",
   "execution_count": null,
   "metadata": {},
   "outputs": [],
   "source": [
    "learning_rate = 1\n",
    "N_epochs = 3000 # number of times to run gradient descent"
   ]
  },
  {
   "cell_type": "code",
   "execution_count": null,
   "metadata": {},
   "outputs": [],
   "source": [
    "nl_h1_s = [10, 50, 100, 200] #number of neurons in hidden layer\n",
    "\n",
    "for nl_h1 in nl_h1_s:\n",
    "    epoch_list, cost_training, cost_validation, acc_training, acc_validation = train_model(N_epochs, x_train, x_val, y_train, y_val, y_onehot_train, y_onehot_val, lr = learning_rate, nl_h1)\n",
    "    \n",
    "    print(\"Results for weight decay: \", weight_decay)\n",
    "    plot_fnn_params(epoch_list, cost_training, cost_validation, 'Cost')\n",
    "    plot_fnn_params(epoch_list, acc_training, acc_validation, 'Accuracy')\n",
    "    print(\"Final Training cost %f\\nFinal Training accuracy %f\\n\" % (cost_training[-1], acc_training[-1]) )\n",
    "    print(\"Final Validation cost %f\\nFinal Validation accuracy %f\\n\" % (cost_validation[-1], acc_validation[-1]) )\n",
    "    print(\"\")"
   ]
  },
  {
   "cell_type": "markdown",
   "metadata": {},
   "source": [
    "### Learning rate"
   ]
  },
  {
   "cell_type": "code",
   "execution_count": null,
   "metadata": {},
   "outputs": [],
   "source": [
    "N_epochs = 3000"
   ]
  },
  {
   "cell_type": "code",
   "execution_count": null,
   "metadata": {},
   "outputs": [],
   "source": [
    "learning_rates = [0.1, 0.5, 1, 2]\n",
    "\n",
    "for learning_rate in learning_rates:\n",
    "    epoch_list, cost_training, cost_validation, acc_training, acc_validation = train_model(N_epochs, x_train, x_val, y_train, y_val, y_onehot_train, y_onehot_val, lr = learning_rate)\n",
    "    \n",
    "    print(\"Results for weight decay: \", weight_decay)\n",
    "    plot_fnn_params(epoch_list, cost_training, cost_validation, 'Cost')\n",
    "    plot_fnn_params(epoch_list, acc_training, acc_validation, 'Accuracy')\n",
    "    print(\"Final Training cost %f\\nFinal Training accuracy %f\\n\" % (cost_training[-1], acc_training[-1]) )\n",
    "    print(\"Final Validation cost %f\\nFinal Validation accuracy %f\\n\" % (cost_validation[-1], acc_validation[-1]) )\n",
    "    print(\"\")"
   ]
  },
  {
   "cell_type": "markdown",
   "metadata": {},
   "source": [
    "##  <span style=\"color:#8B008B\"> Test best model on testing data (2.d) </span>"
   ]
  },
  {
   "cell_type": "markdown",
   "metadata": {},
   "source": [
    "### Define best hyper parameters"
   ]
  },
  {
   "cell_type": "code",
   "execution_count": null,
   "metadata": {},
   "outputs": [],
   "source": [
    "learning_rate = 1\n",
    "N_epochs = 3000 # number of times to run gradient descent\n",
    "nl_h1 = 100\n",
    "weight_decay = 0"
   ]
  }
 ],
 "metadata": {
  "accelerator": "GPU",
  "colab": {
   "collapsed_sections": [],
   "name": "tutorial2_spirals.ipynb",
   "provenance": []
  },
  "kernelspec": {
   "display_name": "Python 3 (ipykernel)",
   "language": "python",
   "name": "python3"
  },
  "language_info": {
   "codemirror_mode": {
    "name": "ipython",
    "version": 3
   },
   "file_extension": ".py",
   "mimetype": "text/x-python",
   "name": "python",
   "nbconvert_exporter": "python",
   "pygments_lexer": "ipython3",
   "version": "3.9.7"
  }
 },
 "nbformat": 4,
 "nbformat_minor": 1
}
