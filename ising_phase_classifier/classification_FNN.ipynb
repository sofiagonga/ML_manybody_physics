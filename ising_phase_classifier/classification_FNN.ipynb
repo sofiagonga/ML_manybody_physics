{
 "cells": [
  {
   "cell_type": "markdown",
   "metadata": {
    "id": "eWxxmBLYKoln"
   },
   "source": [
    "# Classifying Ising model phase transitions using FNNs in PyTorch\n",
    "\n",
    "April 25, 2022\n",
    "\n",
    "This code relies on work from Lauren Hayward, Juan Carrasquilla, and Mohamed Hibat Allah. <br/>\n",
    "Dataset generated using Monte Carlo sampling also by the Lauren, Juan and Mohamed."
   ]
  },
  {
   "cell_type": "markdown",
   "metadata": {},
   "source": [
    "### Import libraries"
   ]
  },
  {
   "cell_type": "code",
   "execution_count": 1,
   "metadata": {},
   "outputs": [],
   "source": [
    "import numpy as np\n",
    "import os\n",
    "import matplotlib.pyplot as plt\n",
    "import torch\n",
    "from IPython import display\n",
    "import time\n",
    "import copy\n",
    "from sklearn.model_selection import train_test_split"
   ]
  },
  {
   "cell_type": "markdown",
   "metadata": {},
   "source": [
    "### Import data"
   ]
  },
  {
   "cell_type": "code",
   "execution_count": 2,
   "metadata": {},
   "outputs": [],
   "source": [
    "github_dir = 'https://raw.githubusercontent.com/sofiagonga/ML_manybody_physics/main/ising_phase_classifier/data'\n",
    "\n",
    "x_url = os.path.join(github_dir, 'x_L30.txt')\n",
    "y_url = os.path.join(github_dir, 'y_L30.txt')\n",
    "T_url = os.path.join(github_dir, 'T_L30.txt')\n",
    "\n",
    "x_all = np.loadtxt(x_url , dtype='int16')\n",
    "y_all = np.loadtxt(y_url , dtype='int16')\n",
    "T_all = np.loadtxt(T_url , dtype='int16')"
   ]
  },
  {
   "cell_type": "code",
   "execution_count": 3,
   "metadata": {},
   "outputs": [
    {
     "name": "stdout",
     "output_type": "stream",
     "text": [
      "Number of configurations in data set:  10000\n",
      "Lattice size:  30 x 30\n"
     ]
    }
   ],
   "source": [
    "N_configs = np.shape(x_all)[0]\n",
    "print(\"Number of configurations in data set: \", N_configs)\n",
    "\n",
    "L = int(np.sqrt(np.shape(x_all)[1]))\n",
    "print(\"Lattice size: \", L, 'x', L)"
   ]
  },
  {
   "cell_type": "markdown",
   "metadata": {},
   "source": [
    "#### Select GPU to run code if available (speeds-up calculation)"
   ]
  },
  {
   "cell_type": "code",
   "execution_count": 4,
   "metadata": {},
   "outputs": [
    {
     "name": "stdout",
     "output_type": "stream",
     "text": [
      "Device available: cpu\n"
     ]
    }
   ],
   "source": [
    "device = 'cuda' if torch.cuda.is_available() else 'cpu'\n",
    "print(\"Device available:\", device) #M1 chip does not support GPU as of today"
   ]
  },
  {
   "cell_type": "markdown",
   "metadata": {
    "id": "MuUm4oZtGM77"
   },
   "source": [
    "### Plot a random configuration\n"
   ]
  },
  {
   "cell_type": "code",
   "execution_count": 5,
   "metadata": {},
   "outputs": [
    {
     "data": {
      "image/png": "[encoded data removed]",
      "text/plain": [
       "<Figure size 432x288 with 1 Axes>"
      ]
     },
     "metadata": {
      "needs_background": "light"
     },
     "output_type": "display_data"
    }
   ],
   "source": [
    "rnd_config_index = np.random.randint(0, N_configs)\n",
    "reshaped_configuration = x_all[rnd_config_index].reshape(L,L)\n",
    "\n",
    "title = 'Plot for configuration number ' + str(rnd_config_index)\n",
    "plt.title(title)\n",
    "plt.imshow(reshaped_configuration, cmap=plt.cm.gray) #black = 0, white = 1\n",
    "plt.show()"
   ]
  },
  {
   "cell_type": "markdown",
   "metadata": {
    "id": "cnVlZ9Gf96KC"
   },
   "source": [
    "## Define the network architecture"
   ]
  },
  {
   "cell_type": "code",
   "execution_count": 6,
   "metadata": {
    "id": "EG5DlljlSEvB"
   },
   "outputs": [],
   "source": [
    "%matplotlib inline\n",
    "\n",
    "class FeedforwardNN(torch.nn.Module):\n",
    "    def __init__(self, input_size, output_size, nl_h1):\n",
    "        super(FeedforwardNN, self).__init__()\n",
    "\n",
    "        #layer sizes:\n",
    "        self.input_size = input_size\n",
    "        self.output_size = output_size\n",
    "\n",
    "        #activation functions used within the Feedforward NN:\n",
    "        self.linear1 = torch.nn.Linear(self.input_size, nl_h1)\n",
    "        self.linear2 = torch.nn.Linear(nl_h1, self.output_size)\n",
    "        \n",
    "        self.relu    = torch.nn.ReLU() \n",
    "        self.sigmoid = torch.nn.Sigmoid()\n",
    "        self.softmax = torch.nn.Softmax()\n",
    "        \n",
    "    def forward(self, x):\n",
    "        #Layer 1:\n",
    "        linear1_out = self.linear1(x)\n",
    "        a1 = self.sigmoid(linear1_out)\n",
    "        #Layer 2:\n",
    "        linear2_out = self.linear2(a1)\n",
    "        a2 = self.sigmoid(linear2_out)\n",
    "\n",
    "        #Network output:\n",
    "        aL = a2\n",
    "\n",
    "        return aL"
   ]
  },
  {
   "cell_type": "markdown",
   "metadata": {},
   "source": [
    "### Define model creation function\n",
    "(Avoids training model on pre-existing model)"
   ]
  },
  {
   "cell_type": "code",
   "execution_count": 7,
   "metadata": {},
   "outputs": [],
   "source": [
    "def define_model():\n",
    "    input_size = L*L\n",
    "    output_size = 2\n",
    "    nl_h1 = 100 #number of neurons in hidden layer 1\n",
    "\n",
    "    model = FeedforwardNN(input_size, output_size, nl_h1)\n",
    "    \n",
    "    return model"
   ]
  },
  {
   "cell_type": "markdown",
   "metadata": {},
   "source": [
    "### Define model training function"
   ]
  },
  {
   "cell_type": "code",
   "execution_count": 8,
   "metadata": {},
   "outputs": [],
   "source": [
    "def train_model(N_epochs, x_train, x_val, y_train, y_val, y_onehot_train, y_onehot_val, learning_rate):\n",
    "    epoch_list    = []\n",
    "    cost_training = []\n",
    "    acc_training  = []\n",
    "    cost_validation = []\n",
    "    acc_validation  = []\n",
    "    \n",
    "    model = define_model()\n",
    "    \n",
    "    learning_rate = 1\n",
    "    optimizer = torch.optim.SGD(model.parameters(), lr=learning_rate)\n",
    "    \n",
    "    ### Train for several epochs: ###\n",
    "    for epoch in range(N_epochs):\n",
    "\n",
    "        optimizer.zero_grad() # sets the gradients to zero (necessary since PyTorch accumulates the gradients)\n",
    "        NN_output_train = model(x_train) # Neural network output for training\n",
    "        NN_output_val = model(x_val) # Neural network output for validation\n",
    "        cost_train = cost_func(NN_output_train, y_onehot_train)\n",
    "        cost_valid = cost_func(NN_output_val, y_onehot_val)\n",
    "\n",
    "        cost_train.backward() #computes the gradients\n",
    "        cost_valid.backward() #computes the gradients\n",
    "\n",
    "        optimizer.step() #updating the parameters \n",
    "\n",
    "        if epoch % 50 == 0:\n",
    "            epoch_list.append(epoch)\n",
    "\n",
    "            #Training data\n",
    "            predicted_class_train = np.argmax(NN_output_train.detach().numpy(), axis=1)\n",
    "            accuracy_train = np.mean(predicted_class_train == y_train)\n",
    "\n",
    "            cost_training.append(cost_train.detach().numpy())\n",
    "            acc_training.append(accuracy_train)\n",
    "\n",
    "            #Validation data\n",
    "            predicted_class_valid = np.argmax(NN_output_val.detach().numpy(), axis=1)\n",
    "            accuracy_valid = np.mean(predicted_class_valid == y_val)\n",
    "\n",
    "            cost_validation.append(cost_valid.detach().numpy())\n",
    "            acc_validation.append(accuracy_valid)\n",
    "            \n",
    "    return epoch_list, cost_training, cost_validation, acc_training, acc_validation"
   ]
  },
  {
   "cell_type": "markdown",
   "metadata": {},
   "source": [
    "### Split data into training, validation and testing"
   ]
  },
  {
   "cell_type": "code",
   "execution_count": 9,
   "metadata": {},
   "outputs": [],
   "source": [
    "split_ratio = [0.7, 0.2, 0.1] #train, validate, test\n",
    "\n",
    "first_split = split_ratio[1] + split_ratio[2]\n",
    "x_train, x_val, y_train, y_val = train_test_split(x_all, y_all, test_size = first_split, random_state=1)\n",
    "\n",
    "second_split = split_ratio[2]/(split_ratio[1] + split_ratio[2])\n",
    "x_val, x_test, y_val, y_test = train_test_split(x_val, y_val, test_size = second_split, random_state=1)"
   ]
  },
  {
   "cell_type": "code",
   "execution_count": 10,
   "metadata": {},
   "outputs": [],
   "source": [
    "### Store the input data as a PyTorch tensor ###\n",
    "x_train = torch.tensor(x_train, dtype = torch.float)\n",
    "x_val = torch.tensor(x_val, dtype = torch.float)\n",
    "\n",
    "### One hot encoding for training data set###\n",
    "y_onehot_train = np.zeros((y_train.size, 2))\n",
    "y_onehot_train[np.arange(y_train.size), y_train] = 1\n",
    "y_onehot_train = torch.tensor(y_onehot_train, dtype = torch.float)\n",
    "\n",
    "### One hot encoding for validation data set###\n",
    "y_onehot_val = np.zeros((y_val.size, 2))\n",
    "y_onehot_val[np.arange(y_val.size), y_val] = 1\n",
    "y_onehot_val = torch.tensor(y_onehot_val, dtype = torch.float)"
   ]
  },
  {
   "cell_type": "markdown",
   "metadata": {},
   "source": [
    "### Function for plotting"
   ]
  },
  {
   "cell_type": "code",
   "execution_count": 21,
   "metadata": {},
   "outputs": [],
   "source": [
    "def plot_fnn_params(epoch_list, parameter_values_train, parameter_values_valid, parameter_name):\n",
    "    title = str(parameter_name) + ' evolution with epoch'\n",
    "    plt.title(title)\n",
    "    plt.plot(epoch_list, parameter_values_train, label = 'Training data', ls = 'dashed')\n",
    "    plt.plot(epoch_list, parameter_values_valid, label = 'Validation data', ls = 'dashed')\n",
    "    plt.xlabel('Epoch')\n",
    "    plt.ylabel(parameter_name)\n",
    "    plt.legend()\n",
    "    plt.show()"
   ]
  },
  {
   "cell_type": "markdown",
   "metadata": {
    "id": "KOtexsTq-EfC"
   },
   "source": [
    "##  <span style=\"color:#8B008B\"> Training (2.a) </span>"
   ]
  },
  {
   "cell_type": "markdown",
   "metadata": {},
   "source": [
    "#### Define hyperparameters"
   ]
  },
  {
   "cell_type": "code",
   "execution_count": 12,
   "metadata": {},
   "outputs": [],
   "source": [
    "learning_rate = 1\n",
    "\n",
    "cost_func = torch.nn.MSELoss()\n",
    "#Other: cost_func = torch.nn.CrossEntropy()\n",
    "\n",
    "N_epochs = 700 # number of times to run gradient descent"
   ]
  },
  {
   "cell_type": "markdown",
   "metadata": {},
   "source": [
    "#### Train model"
   ]
  },
  {
   "cell_type": "code",
   "execution_count": 13,
   "metadata": {
    "id": "7ng0FlPl-YNf"
   },
   "outputs": [],
   "source": [
    "epoch_list, cost_training, cost_validation, acc_training, acc_validation = train_model(N_epochs, x_train, x_val, y_train, y_val, y_onehot_train, y_onehot_val, learning_rate)"
   ]
  },
  {
   "cell_type": "code",
   "execution_count": 22,
   "metadata": {},
   "outputs": [
    {
     "data": {
      "image/png": "[encoded data removed]",
      "text/plain": [
       "<Figure size 432x288 with 1 Axes>"
      ]
     },
     "metadata": {
      "needs_background": "light"
     },
     "output_type": "display_data"
    },
    {
     "data": {
      "image/png": "[encoded data removed]",
      "text/plain": [
       "<Figure size 432x288 with 1 Axes>"
      ]
     },
     "metadata": {
      "needs_background": "light"
     },
     "output_type": "display_data"
    },
    {
     "name": "stdout",
     "output_type": "stream",
     "text": [
      "Final Training cost 0.016629\n",
      "Final Training accuracy 0.988570\n",
      "\n",
      "Final Validation cost 0.013293\n",
      "Final Validation accuracy 0.991500\n",
      "\n"
     ]
    }
   ],
   "source": [
    "plot_fnn_params(epoch_list, cost_training, cost_validation, 'Cost')\n",
    "plot_fnn_params(epoch_list, acc_training, acc_validation, 'Accuracy')\n",
    "\n",
    "print(\"Final Training cost %f\\nFinal Training accuracy %f\\n\" % (cost_training[-1], acc_training[-1]) )\n",
    "print(\"Final Validation cost %f\\nFinal Validation accuracy %f\\n\" % (cost_validation[-1], acc_validation[-1]) )"
   ]
  },
  {
   "cell_type": "markdown",
   "metadata": {},
   "source": []
  }
 ],
 "metadata": {
  "accelerator": "GPU",
  "colab": {
   "collapsed_sections": [],
   "name": "tutorial2_spirals.ipynb",
   "provenance": []
  },
  "kernelspec": {
   "display_name": "Python 3 (ipykernel)",
   "language": "python",
   "name": "python3"
  },
  "language_info": {
   "codemirror_mode": {
    "name": "ipython",
    "version": 3
   },
   "file_extension": ".py",
   "mimetype": "text/x-python",
   "name": "python",
   "nbconvert_exporter": "python",
   "pygments_lexer": "ipython3",
   "version": "3.9.7"
  }
 },
 "nbformat": 4,
 "nbformat_minor": 1
}
