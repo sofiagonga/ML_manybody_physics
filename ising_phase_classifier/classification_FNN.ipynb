{
 "cells": [
  {
   "cell_type": "markdown",
   "metadata": {
    "id": "eWxxmBLYKoln"
   },
   "source": [
    "# Classifying Ising model phase transitions using FNNs in PyTorch\n",
    "\n",
    "April 25, 2022\n",
    "\n",
    "This code relies on work from Lauren Hayward, Juan Carrasquilla, and Mohamed Hibat Allah. <br/>\n",
    "Dataset generated using Monte Carlo sampling also by the Lauren, Juan and Mohamed."
   ]
  },
  {
   "cell_type": "markdown",
   "metadata": {},
   "source": [
    "### Import libraries"
   ]
  },
  {
   "cell_type": "code",
   "execution_count": 65,
   "metadata": {},
   "outputs": [],
   "source": [
    "import numpy as np\n",
    "import os\n",
    "import matplotlib.pyplot as plt\n",
    "import torch\n",
    "from IPython import display\n",
    "import time\n",
    "import copy\n",
    "from sklearn.model_selection import train_test_split"
   ]
  },
  {
   "cell_type": "markdown",
   "metadata": {},
   "source": [
    "### Import data"
   ]
  },
  {
   "cell_type": "code",
   "execution_count": 2,
   "metadata": {},
   "outputs": [],
   "source": [
    "github_dir = 'https://raw.githubusercontent.com/sofiagonga/ML_manybody_physics/main/ising_phase_classifier/data'\n",
    "\n",
    "x_url = os.path.join(github_dir, 'x_L30.txt')\n",
    "y_url = os.path.join(github_dir, 'y_L30.txt')\n",
    "T_url = os.path.join(github_dir, 'T_L30.txt')\n",
    "\n",
    "x_all = np.loadtxt(x_url , dtype='int16')\n",
    "y_all = np.loadtxt(y_url , dtype='int16')\n",
    "T_all = np.loadtxt(T_url , dtype='int16')"
   ]
  },
  {
   "cell_type": "code",
   "execution_count": 3,
   "metadata": {},
   "outputs": [
    {
     "name": "stdout",
     "output_type": "stream",
     "text": [
      "Number of configurations in data set:  10000\n",
      "Lattice size:  30 x 30\n"
     ]
    }
   ],
   "source": [
    "N_configs = np.shape(x_all)[0]\n",
    "print(\"Number of configurations in data set: \", N_configs)\n",
    "\n",
    "L = int(np.sqrt(np.shape(x_all)[1]))\n",
    "print(\"Lattice size: \", L, 'x', L)"
   ]
  },
  {
   "cell_type": "markdown",
   "metadata": {},
   "source": [
    "#### Select GPU to run code if available (speeds-up calculation)"
   ]
  },
  {
   "cell_type": "code",
   "execution_count": 4,
   "metadata": {},
   "outputs": [
    {
     "name": "stdout",
     "output_type": "stream",
     "text": [
      "Device available: cpu\n"
     ]
    }
   ],
   "source": [
    "device = 'cuda' if torch.cuda.is_available() else 'cpu'\n",
    "print(\"Device available:\", device) #M1 chip does not support GPU as of today"
   ]
  },
  {
   "cell_type": "markdown",
   "metadata": {
    "id": "MuUm4oZtGM77"
   },
   "source": [
    "### Plot a random configuration\n"
   ]
  },
  {
   "cell_type": "code",
   "execution_count": 47,
   "metadata": {},
   "outputs": [
    {
     "data": {
      "image/png": "[encoded data removed]",
      "text/plain": [
       "<Figure size 432x288 with 1 Axes>"
      ]
     },
     "metadata": {
      "needs_background": "light"
     },
     "output_type": "display_data"
    }
   ],
   "source": [
    "rnd_config_index = np.random.randint(0, N_configs)\n",
    "reshaped_configuration = x_all[rnd_config_index].reshape(L,L)\n",
    "\n",
    "title = 'Plot for configuration number ' + str(rnd_config_index)\n",
    "plt.title(title)\n",
    "plt.imshow(reshaped_configuration, cmap=plt.cm.gray) #black = 0, white = 1\n",
    "plt.show()"
   ]
  },
  {
   "cell_type": "markdown",
   "metadata": {
    "id": "cnVlZ9Gf96KC"
   },
   "source": [
    "## Define the network architecture"
   ]
  },
  {
   "cell_type": "code",
   "execution_count": 61,
   "metadata": {
    "id": "EG5DlljlSEvB"
   },
   "outputs": [],
   "source": [
    "%matplotlib inline\n",
    "\n",
    "class FeedforwardNN(torch.nn.Module):\n",
    "    def __init__(self, input_size, output_size, nl_h1):\n",
    "        super(FeedforwardNN, self).__init__()\n",
    "\n",
    "        #layer sizes:\n",
    "        self.input_size = input_size\n",
    "        self.output_size = output_size\n",
    "\n",
    "        #activation functions used within the Feedforward NN:\n",
    "        self.linear1 = torch.nn.Linear(self.input_size, nl_h1)\n",
    "        self.linear2 = torch.nn.Linear(nl_h1, self.output_size)\n",
    "        \n",
    "        self.relu    = torch.nn.ReLU() \n",
    "        self.sigmoid = torch.nn.Sigmoid()\n",
    "        self.softmax = torch.nn.Softmax()\n",
    "        \n",
    "    def forward(self, x):\n",
    "        #Layer 1:\n",
    "        linear1_out = self.linear1(x)\n",
    "        a1 = self.sigmoid(linear1_out)\n",
    "        #Layer 2:\n",
    "        linear2_out = self.linear2(a1)\n",
    "        a2 = self.sigmoid(linear2_out)\n",
    "\n",
    "        #Network output:\n",
    "        aL = a2\n",
    "\n",
    "        return aL"
   ]
  },
  {
   "cell_type": "markdown",
   "metadata": {},
   "source": [
    "### Split data into training, validation and testing"
   ]
  },
  {
   "cell_type": "code",
   "execution_count": 62,
   "metadata": {},
   "outputs": [],
   "source": [
    "split_ratio = [0.7, 0.2, 0.1] #train, validate, test\n",
    "\n",
    "first_split = split_ratio[1] + split_ratio[2]\n",
    "x_train, x_val, y_train, y_val = train_test_split(x_all, y_all, test_size = first_split, random_state=1)\n",
    "\n",
    "second_split = split_ratio[2]/(split_ratio[1] + split_ratio[2])\n",
    "x_val, x_test, y_val, y_test = train_test_split(x_val, y_val, test_size = second_split, random_state=1)"
   ]
  },
  {
   "cell_type": "markdown",
   "metadata": {},
   "source": [
    "### Define training hyperparameters"
   ]
  },
  {
   "cell_type": "code",
   "execution_count": 32,
   "metadata": {},
   "outputs": [],
   "source": [
    "input_size = L*L\n",
    "output_size = 2\n",
    "nl_h1 = 100 #number of neurons in hidden layer 1\n",
    "\n",
    "model = FeedforwardNN(input_size, output_size, nl_h1)\n",
    "\n",
    "### Store the input data as a PyTorch tensor ###\n",
    "x_train = torch.tensor(x_train, dtype = torch.float)\n",
    "x_val = torch.tensor(x_val, dtype = torch.float)\n",
    "\n",
    "### One hot encoding for training data set###\n",
    "y_onehot_train = np.zeros((y_train.size, 2))\n",
    "y_onehot_train[np.arange(y_train.size), y_train] = 1\n",
    "y_onehot_train = torch.tensor(y_onehot_train, dtype = torch.float)\n",
    "\n",
    "### One hot encoding for validation data set###\n",
    "y_onehot_val = np.zeros((y_val.size, 2))\n",
    "y_onehot_val[np.arange(y_val.size), y_val] = 1\n",
    "y_onehot_val = torch.tensor(y_onehot_val, dtype = torch.float)\n",
    "\n",
    "### Use backpropagation to minimize the cost function using the gradient descent algorithm: ###\n",
    "learning_rate = 1\n",
    "optimizer = torch.optim.SGD(model.parameters(), lr=learning_rate)\n",
    "\n",
    "### Cost function: ###\n",
    "cost_func = torch.nn.MSELoss()\n",
    "#cost_func = torch.nn.CrossEntropy()\n",
    "\n",
    "N_epochs = 300 # number of times to run gradient descent"
   ]
  },
  {
   "cell_type": "markdown",
   "metadata": {
    "id": "KOtexsTq-EfC"
   },
   "source": [
    "## Training"
   ]
  },
  {
   "cell_type": "markdown",
   "metadata": {},
   "source": [
    "#### Function for plotting"
   ]
  },
  {
   "cell_type": "code",
   "execution_count": 13,
   "metadata": {},
   "outputs": [],
   "source": [
    "def plot_fnn_params(epoch_list, parameter_values_train, parameter_values_valid, parameter_name):\n",
    "    plt.plot(epoch_list, parameter_values_train, label = 'Training data')\n",
    "    plt.plot(epoch_list, parameter_values_valid, label = 'Validation data')\n",
    "    plt.xlabel('Epoch')\n",
    "    plt.ylabel(parameter_name)\n",
    "    plt.show()"
   ]
  },
  {
   "cell_type": "code",
   "execution_count": 67,
   "metadata": {},
   "outputs": [],
   "source": [
    "def train_model(N_epochs, x_train, x_val, y_train, y_val, y_onehot_train, y_onehot_val):\n",
    "    epoch_list    = []\n",
    "    cost_training = []\n",
    "    acc_training  = []\n",
    "    cost_validation = []\n",
    "    acc_validation  = []\n",
    "    model_temp = model\n",
    "\n",
    "    ### Train for several epochs: ###\n",
    "    for epoch in range(N_epochs):\n",
    "\n",
    "        optimizer.zero_grad() # sets the gradients to zero (necessary since PyTorch accumulates the gradients)\n",
    "        NN_output_train = model_temp(x_train) # Neural network output for training\n",
    "        NN_output_val = model_temp(x_val) # Neural network output for validation\n",
    "        cost_train = cost_func(NN_output_train, y_onehot_train)\n",
    "        cost_valid = cost_func(NN_output_val, y_onehot_val)\n",
    "\n",
    "        cost_train.backward() #computes the gradients\n",
    "        cost_valid.backward() #computes the gradients\n",
    "\n",
    "        optimizer.step() #updating the parameters \n",
    "\n",
    "        if epoch % 50 == 0:\n",
    "            epoch_list.append(epoch)\n",
    "\n",
    "            #Training data\n",
    "            predicted_class_train = np.argmax(NN_output_train.detach().numpy(), axis=1)\n",
    "            accuracy_train = np.mean(predicted_class_train == y_train)\n",
    "\n",
    "            cost_training.append(cost_train.detach().numpy())\n",
    "            acc_training.append(accuracy_train)\n",
    "\n",
    "            #Validation data\n",
    "            predicted_class_valid = np.argmax(NN_output_val.detach().numpy(), axis=1)\n",
    "            accuracy_valid = np.mean(predicted_class_valid == y_val)\n",
    "\n",
    "            cost_validation.append(cost_valid.detach().numpy())\n",
    "            acc_validation.append(accuracy_valid)\n",
    "            \n",
    "    return epoch_list, cost_training, cost_validation, acc_training, acc_validation"
   ]
  },
  {
   "cell_type": "code",
   "execution_count": 68,
   "metadata": {
    "id": "7ng0FlPl-YNf"
   },
   "outputs": [
    {
     "ename": "TypeError",
     "evalue": "linear(): argument 'input' (position 1) must be Tensor, not numpy.ndarray",
     "output_type": "error",
     "traceback": [
      "\u001b[0;31m---------------------------------------------------------------------------\u001b[0m",
      "\u001b[0;31mTypeError\u001b[0m                                 Traceback (most recent call last)",
      "Input \u001b[0;32mIn [68]\u001b[0m, in \u001b[0;36m<module>\u001b[0;34m\u001b[0m\n\u001b[0;32m----> 1\u001b[0m epoch_list, cost_training, cost_validation, acc_training, acc_validation \u001b[38;5;241m=\u001b[39m \u001b[43mtrain_model\u001b[49m\u001b[43m(\u001b[49m\u001b[43mN_epochs\u001b[49m\u001b[43m,\u001b[49m\u001b[43m \u001b[49m\u001b[43mx_train\u001b[49m\u001b[43m,\u001b[49m\u001b[43m \u001b[49m\u001b[43mx_val\u001b[49m\u001b[43m,\u001b[49m\u001b[43m \u001b[49m\u001b[43my_train\u001b[49m\u001b[43m,\u001b[49m\u001b[43m \u001b[49m\u001b[43my_val\u001b[49m\u001b[43m,\u001b[49m\u001b[43m \u001b[49m\u001b[43my_onehot_train\u001b[49m\u001b[43m,\u001b[49m\u001b[43m \u001b[49m\u001b[43my_onehot_val\u001b[49m\u001b[43m)\u001b[49m\n",
      "Input \u001b[0;32mIn [67]\u001b[0m, in \u001b[0;36mtrain_model\u001b[0;34m(N_epochs, x_train, x_val, y_train, y_val, y_onehot_train, y_onehot_val)\u001b[0m\n\u001b[1;32m     10\u001b[0m \u001b[38;5;28;01mfor\u001b[39;00m epoch \u001b[38;5;129;01min\u001b[39;00m \u001b[38;5;28mrange\u001b[39m(N_epochs):\n\u001b[1;32m     12\u001b[0m     optimizer\u001b[38;5;241m.\u001b[39mzero_grad() \u001b[38;5;66;03m# sets the gradients to zero (necessary since PyTorch accumulates the gradients)\u001b[39;00m\n\u001b[0;32m---> 13\u001b[0m     NN_output_train \u001b[38;5;241m=\u001b[39m \u001b[43mmodel_temp\u001b[49m\u001b[43m(\u001b[49m\u001b[43mx_train\u001b[49m\u001b[43m)\u001b[49m \u001b[38;5;66;03m# Neural network output for training\u001b[39;00m\n\u001b[1;32m     14\u001b[0m     NN_output_val \u001b[38;5;241m=\u001b[39m model_temp(x_val) \u001b[38;5;66;03m# Neural network output for validation\u001b[39;00m\n\u001b[1;32m     15\u001b[0m     cost_train \u001b[38;5;241m=\u001b[39m cost_func(NN_output_train, y_onehot_train)\n",
      "File \u001b[0;32m~/opt/anaconda3/lib/python3.9/site-packages/torch/nn/modules/module.py:1110\u001b[0m, in \u001b[0;36mModule._call_impl\u001b[0;34m(self, *input, **kwargs)\u001b[0m\n\u001b[1;32m   1106\u001b[0m \u001b[38;5;66;03m# If we don't have any hooks, we want to skip the rest of the logic in\u001b[39;00m\n\u001b[1;32m   1107\u001b[0m \u001b[38;5;66;03m# this function, and just call forward.\u001b[39;00m\n\u001b[1;32m   1108\u001b[0m \u001b[38;5;28;01mif\u001b[39;00m \u001b[38;5;129;01mnot\u001b[39;00m (\u001b[38;5;28mself\u001b[39m\u001b[38;5;241m.\u001b[39m_backward_hooks \u001b[38;5;129;01mor\u001b[39;00m \u001b[38;5;28mself\u001b[39m\u001b[38;5;241m.\u001b[39m_forward_hooks \u001b[38;5;129;01mor\u001b[39;00m \u001b[38;5;28mself\u001b[39m\u001b[38;5;241m.\u001b[39m_forward_pre_hooks \u001b[38;5;129;01mor\u001b[39;00m _global_backward_hooks\n\u001b[1;32m   1109\u001b[0m         \u001b[38;5;129;01mor\u001b[39;00m _global_forward_hooks \u001b[38;5;129;01mor\u001b[39;00m _global_forward_pre_hooks):\n\u001b[0;32m-> 1110\u001b[0m     \u001b[38;5;28;01mreturn\u001b[39;00m \u001b[43mforward_call\u001b[49m\u001b[43m(\u001b[49m\u001b[38;5;241;43m*\u001b[39;49m\u001b[38;5;28;43minput\u001b[39;49m\u001b[43m,\u001b[49m\u001b[43m \u001b[49m\u001b[38;5;241;43m*\u001b[39;49m\u001b[38;5;241;43m*\u001b[39;49m\u001b[43mkwargs\u001b[49m\u001b[43m)\u001b[49m\n\u001b[1;32m   1111\u001b[0m \u001b[38;5;66;03m# Do not call functions when jit is used\u001b[39;00m\n\u001b[1;32m   1112\u001b[0m full_backward_hooks, non_full_backward_hooks \u001b[38;5;241m=\u001b[39m [], []\n",
      "Input \u001b[0;32mIn [61]\u001b[0m, in \u001b[0;36mFeedforwardNN.forward\u001b[0;34m(self, x)\u001b[0m\n\u001b[1;32m     19\u001b[0m \u001b[38;5;28;01mdef\u001b[39;00m \u001b[38;5;21mforward\u001b[39m(\u001b[38;5;28mself\u001b[39m, x):\n\u001b[1;32m     20\u001b[0m     \u001b[38;5;66;03m#Layer 1:\u001b[39;00m\n\u001b[0;32m---> 21\u001b[0m     linear1_out \u001b[38;5;241m=\u001b[39m \u001b[38;5;28;43mself\u001b[39;49m\u001b[38;5;241;43m.\u001b[39;49m\u001b[43mlinear1\u001b[49m\u001b[43m(\u001b[49m\u001b[43mx\u001b[49m\u001b[43m)\u001b[49m\n\u001b[1;32m     22\u001b[0m     a1 \u001b[38;5;241m=\u001b[39m \u001b[38;5;28mself\u001b[39m\u001b[38;5;241m.\u001b[39msigmoid(linear1_out)\n\u001b[1;32m     23\u001b[0m     \u001b[38;5;66;03m#Layer 2:\u001b[39;00m\n",
      "File \u001b[0;32m~/opt/anaconda3/lib/python3.9/site-packages/torch/nn/modules/module.py:1110\u001b[0m, in \u001b[0;36mModule._call_impl\u001b[0;34m(self, *input, **kwargs)\u001b[0m\n\u001b[1;32m   1106\u001b[0m \u001b[38;5;66;03m# If we don't have any hooks, we want to skip the rest of the logic in\u001b[39;00m\n\u001b[1;32m   1107\u001b[0m \u001b[38;5;66;03m# this function, and just call forward.\u001b[39;00m\n\u001b[1;32m   1108\u001b[0m \u001b[38;5;28;01mif\u001b[39;00m \u001b[38;5;129;01mnot\u001b[39;00m (\u001b[38;5;28mself\u001b[39m\u001b[38;5;241m.\u001b[39m_backward_hooks \u001b[38;5;129;01mor\u001b[39;00m \u001b[38;5;28mself\u001b[39m\u001b[38;5;241m.\u001b[39m_forward_hooks \u001b[38;5;129;01mor\u001b[39;00m \u001b[38;5;28mself\u001b[39m\u001b[38;5;241m.\u001b[39m_forward_pre_hooks \u001b[38;5;129;01mor\u001b[39;00m _global_backward_hooks\n\u001b[1;32m   1109\u001b[0m         \u001b[38;5;129;01mor\u001b[39;00m _global_forward_hooks \u001b[38;5;129;01mor\u001b[39;00m _global_forward_pre_hooks):\n\u001b[0;32m-> 1110\u001b[0m     \u001b[38;5;28;01mreturn\u001b[39;00m \u001b[43mforward_call\u001b[49m\u001b[43m(\u001b[49m\u001b[38;5;241;43m*\u001b[39;49m\u001b[38;5;28;43minput\u001b[39;49m\u001b[43m,\u001b[49m\u001b[43m \u001b[49m\u001b[38;5;241;43m*\u001b[39;49m\u001b[38;5;241;43m*\u001b[39;49m\u001b[43mkwargs\u001b[49m\u001b[43m)\u001b[49m\n\u001b[1;32m   1111\u001b[0m \u001b[38;5;66;03m# Do not call functions when jit is used\u001b[39;00m\n\u001b[1;32m   1112\u001b[0m full_backward_hooks, non_full_backward_hooks \u001b[38;5;241m=\u001b[39m [], []\n",
      "File \u001b[0;32m~/opt/anaconda3/lib/python3.9/site-packages/torch/nn/modules/linear.py:103\u001b[0m, in \u001b[0;36mLinear.forward\u001b[0;34m(self, input)\u001b[0m\n\u001b[1;32m    102\u001b[0m \u001b[38;5;28;01mdef\u001b[39;00m \u001b[38;5;21mforward\u001b[39m(\u001b[38;5;28mself\u001b[39m, \u001b[38;5;28minput\u001b[39m: Tensor) \u001b[38;5;241m-\u001b[39m\u001b[38;5;241m>\u001b[39m Tensor:\n\u001b[0;32m--> 103\u001b[0m     \u001b[38;5;28;01mreturn\u001b[39;00m \u001b[43mF\u001b[49m\u001b[38;5;241;43m.\u001b[39;49m\u001b[43mlinear\u001b[49m\u001b[43m(\u001b[49m\u001b[38;5;28;43minput\u001b[39;49m\u001b[43m,\u001b[49m\u001b[43m \u001b[49m\u001b[38;5;28;43mself\u001b[39;49m\u001b[38;5;241;43m.\u001b[39;49m\u001b[43mweight\u001b[49m\u001b[43m,\u001b[49m\u001b[43m \u001b[49m\u001b[38;5;28;43mself\u001b[39;49m\u001b[38;5;241;43m.\u001b[39;49m\u001b[43mbias\u001b[49m\u001b[43m)\u001b[49m\n",
      "\u001b[0;31mTypeError\u001b[0m: linear(): argument 'input' (position 1) must be Tensor, not numpy.ndarray"
     ]
    }
   ],
   "source": [
    "epoch_list, cost_training, cost_validation, acc_training, acc_validation = train_model(N_epochs, x_train, x_val, y_train, y_val, y_onehot_train, y_onehot_val)"
   ]
  },
  {
   "cell_type": "code",
   "execution_count": 60,
   "metadata": {},
   "outputs": [
    {
     "data": {
      "image/png": "[encoded data removed]",
      "text/plain": [
       "<Figure size 432x288 with 1 Axes>"
      ]
     },
     "metadata": {
      "needs_background": "light"
     },
     "output_type": "display_data"
    },
    {
     "data": {
      "image/png": "[encoded data removed]",
      "text/plain": [
       "<Figure size 432x288 with 1 Axes>"
      ]
     },
     "metadata": {
      "needs_background": "light"
     },
     "output_type": "display_data"
    },
    {
     "name": "stdout",
     "output_type": "stream",
     "text": [
      "Final Training cost 0.256299\n",
      "Final Training accuracy 0.499786\n",
      "\n",
      "Final Validation cost 0.255634\n",
      "Final Validation accuracy 0.513000\n",
      "\n"
     ]
    }
   ],
   "source": [
    "plot_fnn_params(epoch_list, cost_training, cost_validation, 'Cost')\n",
    "plot_fnn_params(epoch_list, acc_training, acc_validation, 'Accuracy')\n",
    "\n",
    "print(\"Final Training cost %f\\nFinal Training accuracy %f\\n\" % (cost_training[-1], acc_training[-1]) )\n",
    "print(\"Final Validation cost %f\\nFinal Validation accuracy %f\\n\" % (cost_validation[-1], acc_validation[-1]) )"
   ]
  },
  {
   "cell_type": "code",
   "execution_count": null,
   "metadata": {},
   "outputs": [],
   "source": []
  }
 ],
 "metadata": {
  "accelerator": "GPU",
  "colab": {
   "collapsed_sections": [],
   "name": "tutorial2_spirals.ipynb",
   "provenance": []
  },
  "kernelspec": {
   "display_name": "Python 3 (ipykernel)",
   "language": "python",
   "name": "python3"
  },
  "language_info": {
   "codemirror_mode": {
    "name": "ipython",
    "version": 3
   },
   "file_extension": ".py",
   "mimetype": "text/x-python",
   "name": "python",
   "nbconvert_exporter": "python",
   "pygments_lexer": "ipython3",
   "version": "3.9.7"
  }
 },
 "nbformat": 4,
 "nbformat_minor": 1
}
